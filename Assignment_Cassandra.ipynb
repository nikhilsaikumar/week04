{
 "cells": [
  {
   "attachments": {},
   "cell_type": "markdown",
   "metadata": {},
   "source": [
    "## Assignment : Cassandra programming using python\n",
    "### Nikhil Sai Kumar Vuppalavanchu\n",
    "#### U90729250"
   ]
  },
  {
   "cell_type": "code",
   "execution_count": 22,
   "metadata": {},
   "outputs": [],
   "source": [
    "from cassandra.cluster import Cluster\n",
    "import pandas as pd"
   ]
  },
  {
   "attachments": {},
   "cell_type": "markdown",
   "metadata": {},
   "source": [
    "#### Creating Cassandra connection"
   ]
  },
  {
   "cell_type": "code",
   "execution_count": 6,
   "metadata": {},
   "outputs": [],
   "source": [
    "clstr = Cluster()\n",
    "session =clstr.connect()"
   ]
  },
  {
   "attachments": {},
   "cell_type": "markdown",
   "metadata": {},
   "source": [
    "#### Creating KeySpace m14"
   ]
  },
  {
   "cell_type": "code",
   "execution_count": 8,
   "metadata": {},
   "outputs": [
    {
     "data": {
      "text/plain": [
       "<cassandra.cluster.ResultSet at 0x7f42224a3d00>"
      ]
     },
     "execution_count": 8,
     "metadata": {},
     "output_type": "execute_result"
    }
   ],
   "source": [
    "session.execute(\"CREATE KEYSPACE IF NOT EXISTS m14 WITH REPLICATION ={'class':'SimpleStrategy','replication_factor':'1'}\")"
   ]
  },
  {
   "attachments": {},
   "cell_type": "markdown",
   "metadata": {},
   "source": [
    "#### Creating table as inventory for phones"
   ]
  },
  {
   "cell_type": "code",
   "execution_count": 9,
   "metadata": {},
   "outputs": [
    {
     "data": {
      "text/plain": [
       "<cassandra.cluster.ResultSet at 0x7f42204185e0>"
      ]
     },
     "execution_count": 9,
     "metadata": {},
     "output_type": "execute_result"
    }
   ],
   "source": [
    "session.execute(\"\"\" CREATE TABLE IF NOT EXISTS m14.inventory(\n",
    "    sku TEXT,\n",
    "    name TEXT,\n",
    "    description TEXT,\n",
    "    warehouse_num TEXT,\n",
    "    PRIMARY KEY(sku))\n",
    "\n",
    "\"\"\")"
   ]
  },
  {
   "attachments": {},
   "cell_type": "markdown",
   "metadata": {},
   "source": [
    "#### Inserting the data into table from data.csv"
   ]
  },
  {
   "cell_type": "code",
   "execution_count": 11,
   "metadata": {},
   "outputs": [],
   "source": [
    "df =pd.read_csv('data.csv')"
   ]
  },
  {
   "cell_type": "code",
   "execution_count": 12,
   "metadata": {},
   "outputs": [
    {
     "data": {
      "text/html": [
       "<div>\n",
       "<style scoped>\n",
       "    .dataframe tbody tr th:only-of-type {\n",
       "        vertical-align: middle;\n",
       "    }\n",
       "\n",
       "    .dataframe tbody tr th {\n",
       "        vertical-align: top;\n",
       "    }\n",
       "\n",
       "    .dataframe thead th {\n",
       "        text-align: right;\n",
       "    }\n",
       "</style>\n",
       "<table border=\"1\" class=\"dataframe\">\n",
       "  <thead>\n",
       "    <tr style=\"text-align: right;\">\n",
       "      <th></th>\n",
       "      <th>sku</th>\n",
       "      <th>name</th>\n",
       "      <th>description</th>\n",
       "      <th>warehouse_num</th>\n",
       "    </tr>\n",
       "  </thead>\n",
       "  <tbody>\n",
       "    <tr>\n",
       "      <th>0</th>\n",
       "      <td>'APL-IPX-64-SL'</td>\n",
       "      <td>'Apple iPhone X'</td>\n",
       "      <td>'64GB Silver Unlocked'</td>\n",
       "      <td>'WH001'</td>\n",
       "    </tr>\n",
       "    <tr>\n",
       "      <th>1</th>\n",
       "      <td>'SNG-GS21-128-BK'</td>\n",
       "      <td>'Samsung Galaxy S21'</td>\n",
       "      <td>'128GB Black Unlocked'</td>\n",
       "      <td>'WH002'</td>\n",
       "    </tr>\n",
       "    <tr>\n",
       "      <th>2</th>\n",
       "      <td>'MOT-G9P-64-WT'</td>\n",
       "      <td>'Motorola G9 Power'</td>\n",
       "      <td>'64GB White Unlocked'</td>\n",
       "      <td>'WH003'</td>\n",
       "    </tr>\n",
       "    <tr>\n",
       "      <th>3</th>\n",
       "      <td>'GOO-PIX4A-128-OR'</td>\n",
       "      <td>'Google Pixel 4A'</td>\n",
       "      <td>'128GB Orange Unlocked'</td>\n",
       "      <td>'WH001'</td>\n",
       "    </tr>\n",
       "    <tr>\n",
       "      <th>4</th>\n",
       "      <td>'ONE-NORD2-256-BL'</td>\n",
       "      <td>'OnePlus Nord 2'</td>\n",
       "      <td>'256GB Blue Unlocked'</td>\n",
       "      <td>'WH002'</td>\n",
       "    </tr>\n",
       "  </tbody>\n",
       "</table>\n",
       "</div>"
      ],
      "text/plain": [
       "                  sku                  name              description  \\\n",
       "0     'APL-IPX-64-SL'      'Apple iPhone X'   '64GB Silver Unlocked'   \n",
       "1   'SNG-GS21-128-BK'  'Samsung Galaxy S21'   '128GB Black Unlocked'   \n",
       "2     'MOT-G9P-64-WT'   'Motorola G9 Power'    '64GB White Unlocked'   \n",
       "3  'GOO-PIX4A-128-OR'     'Google Pixel 4A'  '128GB Orange Unlocked'   \n",
       "4  'ONE-NORD2-256-BL'      'OnePlus Nord 2'    '256GB Blue Unlocked'   \n",
       "\n",
       "  warehouse_num  \n",
       "0       'WH001'  \n",
       "1       'WH002'  \n",
       "2       'WH003'  \n",
       "3       'WH001'  \n",
       "4       'WH002'  "
      ]
     },
     "execution_count": 12,
     "metadata": {},
     "output_type": "execute_result"
    }
   ],
   "source": [
    "df.head()"
   ]
  },
  {
   "cell_type": "code",
   "execution_count": 14,
   "metadata": {},
   "outputs": [],
   "source": [
    "for index,row in df.iterrows():\n",
    "    session.execute(f\"\"\" INSERT INTO m14.inventory (sku,name,description,warehouse_num)\n",
    "    VALUES({row[0]},{row[1]},{row[2]},{row[3]})\n",
    "    \"\"\")"
   ]
  },
  {
   "cell_type": "code",
   "execution_count": 15,
   "metadata": {},
   "outputs": [
    {
     "name": "stdout",
     "output_type": "stream",
     "text": [
      "Row(sku='GOO-PIX6-128-BK', description='128GB Black Unlocked', name='Google Pixel 6', warehouse_num='WH003')\n",
      "Row(sku='GOO-PIX5-64-OR', description='64GB Orange Unlocked', name='Google Pixel 5', warehouse_num='WH002')\n",
      "Row(sku='SNG-A52-128-WT', description='128GB White Unlocked', name='Samsung Galaxy A52', warehouse_num='WH001')\n",
      "Row(sku='APL-IPX-64-SL', description='64GB Silver Unlocked', name='Apple iPhone X', warehouse_num='WH001')\n",
      "Row(sku='ONE-9R-128-BL', description='128GB Blue Unlocked', name='OnePlus 9R', warehouse_num='WH001')\n",
      "Row(sku='SNG-A32-64-BL', description='64GB Blue Unlocked', name='Samsung Galaxy A32', warehouse_num='WH002')\n",
      "Row(sku='ONE-NORD2-256-BL', description='256GB Blue Unlocked', name='OnePlus Nord 2', warehouse_num='WH002')\n",
      "Row(sku='SNG-N21-256-WT', description='256GB White Unlocked', name='Samsung Galaxy Note 21', warehouse_num='WH003')\n",
      "Row(sku='MOT-MOTO-64-BL', description='64GB Blue Unlocked', name='Motorola Moto G Power', warehouse_num='WH002')\n",
      "Row(sku='APL-IP13-256-BK', description='256GB Black Unlocked', name='Apple iPhone 13', warehouse_num='WH002')\n",
      "Row(sku='APL-IP13-128-GR', description='128GB Green Unlocked', name='Apple iPhone 13', warehouse_num='WH003')\n",
      "Row(sku='MOT-G9P-64-WT', description='64GB White Unlocked', name='Motorola G9 Power', warehouse_num='WH003')\n",
      "Row(sku='MOT-MOTO-128-WT', description='128GB White Unlocked', name='Motorola Moto G Stylus', warehouse_num='WH003')\n",
      "Row(sku='GOO-PIX4A-128-OR', description='128GB Orange Unlocked', name='Google Pixel 4A', warehouse_num='WH001')\n",
      "Row(sku='APL-IP13M-64-BL', description='64GB Blue Unlocked', name='Apple iPhone 13 Mini', warehouse_num='WH001')\n",
      "Row(sku='ONE-8T-128-BK', description='128GB Black Unlocked', name='OnePlus 8T', warehouse_num='WH003')\n",
      "Row(sku='MOT-MOTO-64-GR', description='64GB Green Unlocked', name='Motorola Moto G Power', warehouse_num='WH001')\n",
      "Row(sku='SNG-GS21-128-BK', description='128GB Black Unlocked', name='Samsung Galaxy S21', warehouse_num='WH002')\n",
      "Row(sku='GOO-PIX6A-256-GR', description='256GB Green Unlocked', name='Google Pixel 6A', warehouse_num='WH001')\n",
      "Row(sku='ONE-8-256-BK', description='256GB Black Unlocked', name='OnePlus 8', warehouse_num='WH002')\n"
     ]
    }
   ],
   "source": [
    "result = session.execute(\"SELECT * FROM m14.inventory\")\n",
    "for rows in result:\n",
    "    print(rows)"
   ]
  },
  {
   "attachments": {},
   "cell_type": "markdown",
   "metadata": {},
   "source": [
    "#### Creating a index on warehouse_num column"
   ]
  },
  {
   "cell_type": "code",
   "execution_count": 17,
   "metadata": {},
   "outputs": [
    {
     "data": {
      "text/plain": [
       "<cassandra.cluster.ResultSet at 0x7f4220483310>"
      ]
     },
     "execution_count": 17,
     "metadata": {},
     "output_type": "execute_result"
    }
   ],
   "source": [
    "session.execute(\"CREATE INDEX warehouse_index ON m14.inventory(warehouse_num)\")"
   ]
  },
  {
   "attachments": {},
   "cell_type": "markdown",
   "metadata": {},
   "source": [
    "#### Flitering the data based on warehouse number as WH002"
   ]
  },
  {
   "cell_type": "code",
   "execution_count": 19,
   "metadata": {},
   "outputs": [
    {
     "name": "stdout",
     "output_type": "stream",
     "text": [
      "Row(sku='GOO-PIX5-64-OR', description='64GB Orange Unlocked', name='Google Pixel 5', warehouse_num='WH002')\n",
      "Row(sku='SNG-A32-64-BL', description='64GB Blue Unlocked', name='Samsung Galaxy A32', warehouse_num='WH002')\n",
      "Row(sku='ONE-NORD2-256-BL', description='256GB Blue Unlocked', name='OnePlus Nord 2', warehouse_num='WH002')\n",
      "Row(sku='MOT-MOTO-64-BL', description='64GB Blue Unlocked', name='Motorola Moto G Power', warehouse_num='WH002')\n",
      "Row(sku='APL-IP13-256-BK', description='256GB Black Unlocked', name='Apple iPhone 13', warehouse_num='WH002')\n",
      "Row(sku='SNG-GS21-128-BK', description='128GB Black Unlocked', name='Samsung Galaxy S21', warehouse_num='WH002')\n",
      "Row(sku='ONE-8-256-BK', description='256GB Black Unlocked', name='OnePlus 8', warehouse_num='WH002')\n"
     ]
    }
   ],
   "source": [
    "result = session.execute(\"SELECT * FROM m14.inventory WHERE warehouse_num ='WH002' \")\n",
    "for rows in result:\n",
    "    print(rows)"
   ]
  },
  {
   "cell_type": "code",
   "execution_count": null,
   "metadata": {},
   "outputs": [],
   "source": []
  },
  {
   "cell_type": "markdown",
   "metadata": {},
   "source": []
  }
 ],
 "metadata": {
  "kernelspec": {
   "display_name": "base",
   "language": "python",
   "name": "python3"
  },
  "language_info": {
   "codemirror_mode": {
    "name": "ipython",
    "version": 3
   },
   "file_extension": ".py",
   "mimetype": "text/x-python",
   "name": "python",
   "nbconvert_exporter": "python",
   "pygments_lexer": "ipython3",
   "version": "3.10.8"
  },
  "orig_nbformat": 4,
  "vscode": {
   "interpreter": {
    "hash": "c774f5f42cb3e70515ef7cb909d9051370cc09a28b296d74902002ebc2249cb4"
   }
  }
 },
 "nbformat": 4,
 "nbformat_minor": 2
}
